{
  "nbformat": 4,
  "nbformat_minor": 0,
  "metadata": {
    "colab": {
      "name": "K-means Clustering IPL ",
      "provenance": [],
      "collapsed_sections": [],
      "toc_visible": true
    },
    "kernelspec": {
      "name": "python3",
      "display_name": "Python 3"
    }
  },
  "cells": [
    {
      "cell_type": "markdown",
      "metadata": {
        "id": "HIOF8yn2NgpG",
        "colab_type": "text"
      },
      "source": [
        "#Applying K-means clustering on batsmen"
      ]
    },
    {
      "cell_type": "code",
      "metadata": {
        "id": "OWgfEDSuQDhe",
        "colab_type": "code",
        "outputId": "f219021f-3ff1-4460-a4f2-1ba5b6c59701",
        "colab": {
          "base_uri": "https://localhost:8080/",
          "height": 224
        }
      },
      "source": [
        "import numpy as np\n",
        "import pandas as pd\n",
        "\n",
        "runs=pd.read_csv('/content/Ball_by_Ball.csv')\n",
        "runs=runs[runs['Match_Id']>=829710]\n",
        "runs.head()"
      ],
      "execution_count": 0,
      "outputs": [
        {
          "output_type": "execute_result",
          "data": {
            "text/html": [
              "<div>\n",
              "<style scoped>\n",
              "    .dataframe tbody tr th:only-of-type {\n",
              "        vertical-align: middle;\n",
              "    }\n",
              "\n",
              "    .dataframe tbody tr th {\n",
              "        vertical-align: top;\n",
              "    }\n",
              "\n",
              "    .dataframe thead th {\n",
              "        text-align: right;\n",
              "    }\n",
              "</style>\n",
              "<table border=\"1\" class=\"dataframe\">\n",
              "  <thead>\n",
              "    <tr style=\"text-align: right;\">\n",
              "      <th></th>\n",
              "      <th>Match_Id</th>\n",
              "      <th>Innings_Id</th>\n",
              "      <th>Over_Id</th>\n",
              "      <th>Ball_Id</th>\n",
              "      <th>Team_Batting_Id</th>\n",
              "      <th>Team_Bowling_Id</th>\n",
              "      <th>Striker_Id</th>\n",
              "      <th>Striker_Batting_Position</th>\n",
              "      <th>Non_Striker_Id</th>\n",
              "      <th>Bowler_Id</th>\n",
              "      <th>Batsman_Scored</th>\n",
              "      <th>Extra_Type</th>\n",
              "      <th>Extra_Runs</th>\n",
              "      <th>Player_dissimal_Id</th>\n",
              "      <th>Dissimal_Type</th>\n",
              "      <th>Fielder_Id</th>\n",
              "    </tr>\n",
              "  </thead>\n",
              "  <tbody>\n",
              "    <tr>\n",
              "      <th>108843</th>\n",
              "      <td>829710</td>\n",
              "      <td>1</td>\n",
              "      <td>1</td>\n",
              "      <td>1</td>\n",
              "      <td>7</td>\n",
              "      <td>1</td>\n",
              "      <td>57</td>\n",
              "      <td>1</td>\n",
              "      <td>254</td>\n",
              "      <td>232</td>\n",
              "      <td>0</td>\n",
              "      <td></td>\n",
              "      <td></td>\n",
              "      <td></td>\n",
              "      <td></td>\n",
              "      <td></td>\n",
              "    </tr>\n",
              "    <tr>\n",
              "      <th>108844</th>\n",
              "      <td>829710</td>\n",
              "      <td>1</td>\n",
              "      <td>1</td>\n",
              "      <td>2</td>\n",
              "      <td>7</td>\n",
              "      <td>1</td>\n",
              "      <td>57</td>\n",
              "      <td>1</td>\n",
              "      <td>254</td>\n",
              "      <td>232</td>\n",
              "      <td>1</td>\n",
              "      <td></td>\n",
              "      <td></td>\n",
              "      <td></td>\n",
              "      <td></td>\n",
              "      <td></td>\n",
              "    </tr>\n",
              "    <tr>\n",
              "      <th>108845</th>\n",
              "      <td>829710</td>\n",
              "      <td>1</td>\n",
              "      <td>1</td>\n",
              "      <td>3</td>\n",
              "      <td>7</td>\n",
              "      <td>1</td>\n",
              "      <td>254</td>\n",
              "      <td>2</td>\n",
              "      <td>57</td>\n",
              "      <td>232</td>\n",
              "      <td>1</td>\n",
              "      <td></td>\n",
              "      <td></td>\n",
              "      <td></td>\n",
              "      <td></td>\n",
              "      <td></td>\n",
              "    </tr>\n",
              "    <tr>\n",
              "      <th>108846</th>\n",
              "      <td>829710</td>\n",
              "      <td>1</td>\n",
              "      <td>1</td>\n",
              "      <td>4</td>\n",
              "      <td>7</td>\n",
              "      <td>1</td>\n",
              "      <td>57</td>\n",
              "      <td>1</td>\n",
              "      <td>254</td>\n",
              "      <td>232</td>\n",
              "      <td>1</td>\n",
              "      <td></td>\n",
              "      <td></td>\n",
              "      <td></td>\n",
              "      <td></td>\n",
              "      <td></td>\n",
              "    </tr>\n",
              "    <tr>\n",
              "      <th>108847</th>\n",
              "      <td>829710</td>\n",
              "      <td>1</td>\n",
              "      <td>1</td>\n",
              "      <td>5</td>\n",
              "      <td>7</td>\n",
              "      <td>1</td>\n",
              "      <td>254</td>\n",
              "      <td>2</td>\n",
              "      <td>57</td>\n",
              "      <td>232</td>\n",
              "      <td>0</td>\n",
              "      <td>legbyes</td>\n",
              "      <td>1</td>\n",
              "      <td></td>\n",
              "      <td></td>\n",
              "      <td></td>\n",
              "    </tr>\n",
              "  </tbody>\n",
              "</table>\n",
              "</div>"
            ],
            "text/plain": [
              "        Match_Id  Innings_Id  ...  Dissimal_Type  Fielder_Id\n",
              "108843    829710           1  ...                           \n",
              "108844    829710           1  ...                           \n",
              "108845    829710           1  ...                           \n",
              "108846    829710           1  ...                           \n",
              "108847    829710           1  ...                           \n",
              "\n",
              "[5 rows x 16 columns]"
            ]
          },
          "metadata": {
            "tags": []
          },
          "execution_count": 222
        }
      ]
    },
    {
      "cell_type": "code",
      "metadata": {
        "id": "WDNxLT__D8E3",
        "colab_type": "code",
        "outputId": "ea21e257-f546-4500-bb3b-7bc42f0e59ef",
        "colab": {
          "base_uri": "https://localhost:8080/",
          "height": 379
        }
      },
      "source": [
        "runs[\"Extra_Runs\"] = pd.to_numeric(runs[\"Extra_Runs\"], errors=\"coerce\")\n",
        "runs[\"Extra_Runs\"] = runs[\"Extra_Runs\"].fillna(0)\n",
        "\n",
        "runs[\"Batsman_Scored\"] = pd.to_numeric(runs[\"Batsman_Scored\"], errors=\"coerce\")\n",
        "runs[\"Batsman_Scored\"] = runs[\"Batsman_Scored\"].fillna(0)\n",
        "runs.head(10)"
      ],
      "execution_count": 0,
      "outputs": [
        {
          "output_type": "execute_result",
          "data": {
            "text/html": [
              "<div>\n",
              "<style scoped>\n",
              "    .dataframe tbody tr th:only-of-type {\n",
              "        vertical-align: middle;\n",
              "    }\n",
              "\n",
              "    .dataframe tbody tr th {\n",
              "        vertical-align: top;\n",
              "    }\n",
              "\n",
              "    .dataframe thead th {\n",
              "        text-align: right;\n",
              "    }\n",
              "</style>\n",
              "<table border=\"1\" class=\"dataframe\">\n",
              "  <thead>\n",
              "    <tr style=\"text-align: right;\">\n",
              "      <th></th>\n",
              "      <th>Match_Id</th>\n",
              "      <th>Innings_Id</th>\n",
              "      <th>Over_Id</th>\n",
              "      <th>Ball_Id</th>\n",
              "      <th>Team_Batting_Id</th>\n",
              "      <th>Team_Bowling_Id</th>\n",
              "      <th>Striker_Id</th>\n",
              "      <th>Striker_Batting_Position</th>\n",
              "      <th>Non_Striker_Id</th>\n",
              "      <th>Bowler_Id</th>\n",
              "      <th>Batsman_Scored</th>\n",
              "      <th>Extra_Type</th>\n",
              "      <th>Extra_Runs</th>\n",
              "      <th>Player_dissimal_Id</th>\n",
              "      <th>Dissimal_Type</th>\n",
              "      <th>Fielder_Id</th>\n",
              "    </tr>\n",
              "  </thead>\n",
              "  <tbody>\n",
              "    <tr>\n",
              "      <th>108843</th>\n",
              "      <td>829710</td>\n",
              "      <td>1</td>\n",
              "      <td>1</td>\n",
              "      <td>1</td>\n",
              "      <td>7</td>\n",
              "      <td>1</td>\n",
              "      <td>57</td>\n",
              "      <td>1</td>\n",
              "      <td>254</td>\n",
              "      <td>232</td>\n",
              "      <td>0.0</td>\n",
              "      <td></td>\n",
              "      <td>0.0</td>\n",
              "      <td></td>\n",
              "      <td></td>\n",
              "      <td></td>\n",
              "    </tr>\n",
              "    <tr>\n",
              "      <th>108844</th>\n",
              "      <td>829710</td>\n",
              "      <td>1</td>\n",
              "      <td>1</td>\n",
              "      <td>2</td>\n",
              "      <td>7</td>\n",
              "      <td>1</td>\n",
              "      <td>57</td>\n",
              "      <td>1</td>\n",
              "      <td>254</td>\n",
              "      <td>232</td>\n",
              "      <td>1.0</td>\n",
              "      <td></td>\n",
              "      <td>0.0</td>\n",
              "      <td></td>\n",
              "      <td></td>\n",
              "      <td></td>\n",
              "    </tr>\n",
              "    <tr>\n",
              "      <th>108845</th>\n",
              "      <td>829710</td>\n",
              "      <td>1</td>\n",
              "      <td>1</td>\n",
              "      <td>3</td>\n",
              "      <td>7</td>\n",
              "      <td>1</td>\n",
              "      <td>254</td>\n",
              "      <td>2</td>\n",
              "      <td>57</td>\n",
              "      <td>232</td>\n",
              "      <td>1.0</td>\n",
              "      <td></td>\n",
              "      <td>0.0</td>\n",
              "      <td></td>\n",
              "      <td></td>\n",
              "      <td></td>\n",
              "    </tr>\n",
              "    <tr>\n",
              "      <th>108846</th>\n",
              "      <td>829710</td>\n",
              "      <td>1</td>\n",
              "      <td>1</td>\n",
              "      <td>4</td>\n",
              "      <td>7</td>\n",
              "      <td>1</td>\n",
              "      <td>57</td>\n",
              "      <td>1</td>\n",
              "      <td>254</td>\n",
              "      <td>232</td>\n",
              "      <td>1.0</td>\n",
              "      <td></td>\n",
              "      <td>0.0</td>\n",
              "      <td></td>\n",
              "      <td></td>\n",
              "      <td></td>\n",
              "    </tr>\n",
              "    <tr>\n",
              "      <th>108847</th>\n",
              "      <td>829710</td>\n",
              "      <td>1</td>\n",
              "      <td>1</td>\n",
              "      <td>5</td>\n",
              "      <td>7</td>\n",
              "      <td>1</td>\n",
              "      <td>254</td>\n",
              "      <td>2</td>\n",
              "      <td>57</td>\n",
              "      <td>232</td>\n",
              "      <td>0.0</td>\n",
              "      <td>legbyes</td>\n",
              "      <td>1.0</td>\n",
              "      <td></td>\n",
              "      <td></td>\n",
              "      <td></td>\n",
              "    </tr>\n",
              "    <tr>\n",
              "      <th>108848</th>\n",
              "      <td>829710</td>\n",
              "      <td>1</td>\n",
              "      <td>1</td>\n",
              "      <td>6</td>\n",
              "      <td>7</td>\n",
              "      <td>1</td>\n",
              "      <td>57</td>\n",
              "      <td>1</td>\n",
              "      <td>254</td>\n",
              "      <td>232</td>\n",
              "      <td>0.0</td>\n",
              "      <td></td>\n",
              "      <td>0.0</td>\n",
              "      <td></td>\n",
              "      <td></td>\n",
              "      <td></td>\n",
              "    </tr>\n",
              "    <tr>\n",
              "      <th>108849</th>\n",
              "      <td>829710</td>\n",
              "      <td>1</td>\n",
              "      <td>2</td>\n",
              "      <td>1</td>\n",
              "      <td>7</td>\n",
              "      <td>1</td>\n",
              "      <td>254</td>\n",
              "      <td>2</td>\n",
              "      <td>57</td>\n",
              "      <td>190</td>\n",
              "      <td>4.0</td>\n",
              "      <td></td>\n",
              "      <td>0.0</td>\n",
              "      <td></td>\n",
              "      <td></td>\n",
              "      <td></td>\n",
              "    </tr>\n",
              "    <tr>\n",
              "      <th>108850</th>\n",
              "      <td>829710</td>\n",
              "      <td>1</td>\n",
              "      <td>2</td>\n",
              "      <td>2</td>\n",
              "      <td>7</td>\n",
              "      <td>1</td>\n",
              "      <td>254</td>\n",
              "      <td>2</td>\n",
              "      <td>57</td>\n",
              "      <td>190</td>\n",
              "      <td>0.0</td>\n",
              "      <td></td>\n",
              "      <td>0.0</td>\n",
              "      <td></td>\n",
              "      <td></td>\n",
              "      <td></td>\n",
              "    </tr>\n",
              "    <tr>\n",
              "      <th>108851</th>\n",
              "      <td>829710</td>\n",
              "      <td>1</td>\n",
              "      <td>2</td>\n",
              "      <td>3</td>\n",
              "      <td>7</td>\n",
              "      <td>1</td>\n",
              "      <td>254</td>\n",
              "      <td>2</td>\n",
              "      <td>57</td>\n",
              "      <td>190</td>\n",
              "      <td>0.0</td>\n",
              "      <td></td>\n",
              "      <td>0.0</td>\n",
              "      <td>254</td>\n",
              "      <td>caught</td>\n",
              "      <td>232</td>\n",
              "    </tr>\n",
              "    <tr>\n",
              "      <th>108852</th>\n",
              "      <td>829710</td>\n",
              "      <td>1</td>\n",
              "      <td>2</td>\n",
              "      <td>4</td>\n",
              "      <td>7</td>\n",
              "      <td>1</td>\n",
              "      <td>57</td>\n",
              "      <td>1</td>\n",
              "      <td>207</td>\n",
              "      <td>190</td>\n",
              "      <td>0.0</td>\n",
              "      <td></td>\n",
              "      <td>0.0</td>\n",
              "      <td></td>\n",
              "      <td></td>\n",
              "      <td></td>\n",
              "    </tr>\n",
              "  </tbody>\n",
              "</table>\n",
              "</div>"
            ],
            "text/plain": [
              "        Match_Id  Innings_Id  ...  Dissimal_Type  Fielder_Id\n",
              "108843    829710           1  ...                           \n",
              "108844    829710           1  ...                           \n",
              "108845    829710           1  ...                           \n",
              "108846    829710           1  ...                           \n",
              "108847    829710           1  ...                           \n",
              "108848    829710           1  ...                           \n",
              "108849    829710           1  ...                           \n",
              "108850    829710           1  ...                           \n",
              "108851    829710           1  ...         caught         232\n",
              "108852    829710           1  ...                           \n",
              "\n",
              "[10 rows x 16 columns]"
            ]
          },
          "metadata": {
            "tags": []
          },
          "execution_count": 223
        }
      ]
    },
    {
      "cell_type": "code",
      "metadata": {
        "id": "-Fg9yORd94a5",
        "colab_type": "code",
        "outputId": "c2a5fdb3-0cc4-437e-e96b-12bd42ef6b4a",
        "colab": {
          "base_uri": "https://localhost:8080/",
          "height": 204
        }
      },
      "source": [
        "Players = pd.read_csv(\"/content/Player.csv\",encoding= 'unicode_escape')\n",
        "Players = Players[[\"Player_Id\", \"Player_Name\"]]\n",
        "Players.head()"
      ],
      "execution_count": 0,
      "outputs": [
        {
          "output_type": "execute_result",
          "data": {
            "text/html": [
              "<div>\n",
              "<style scoped>\n",
              "    .dataframe tbody tr th:only-of-type {\n",
              "        vertical-align: middle;\n",
              "    }\n",
              "\n",
              "    .dataframe tbody tr th {\n",
              "        vertical-align: top;\n",
              "    }\n",
              "\n",
              "    .dataframe thead th {\n",
              "        text-align: right;\n",
              "    }\n",
              "</style>\n",
              "<table border=\"1\" class=\"dataframe\">\n",
              "  <thead>\n",
              "    <tr style=\"text-align: right;\">\n",
              "      <th></th>\n",
              "      <th>Player_Id</th>\n",
              "      <th>Player_Name</th>\n",
              "    </tr>\n",
              "  </thead>\n",
              "  <tbody>\n",
              "    <tr>\n",
              "      <th>0</th>\n",
              "      <td>1</td>\n",
              "      <td>SC Ganguly</td>\n",
              "    </tr>\n",
              "    <tr>\n",
              "      <th>1</th>\n",
              "      <td>2</td>\n",
              "      <td>BB McCullum</td>\n",
              "    </tr>\n",
              "    <tr>\n",
              "      <th>2</th>\n",
              "      <td>3</td>\n",
              "      <td>RT Ponting</td>\n",
              "    </tr>\n",
              "    <tr>\n",
              "      <th>3</th>\n",
              "      <td>4</td>\n",
              "      <td>DJ Hussey</td>\n",
              "    </tr>\n",
              "    <tr>\n",
              "      <th>4</th>\n",
              "      <td>5</td>\n",
              "      <td>Mohammad Hafeez</td>\n",
              "    </tr>\n",
              "  </tbody>\n",
              "</table>\n",
              "</div>"
            ],
            "text/plain": [
              "   Player_Id      Player_Name\n",
              "0          1       SC Ganguly\n",
              "1          2      BB McCullum\n",
              "2          3       RT Ponting\n",
              "3          4        DJ Hussey\n",
              "4          5  Mohammad Hafeez"
            ]
          },
          "metadata": {
            "tags": []
          },
          "execution_count": 224
        }
      ]
    },
    {
      "cell_type": "code",
      "metadata": {
        "id": "w6TPu-wdBGgk",
        "colab_type": "code",
        "outputId": "f976941c-f17f-47ac-d53a-32cc9efc8bb2",
        "colab": {
          "base_uri": "https://localhost:8080/",
          "height": 241
        }
      },
      "source": [
        "final_ds = runs[['Team_Batting_Id', 'Striker_Id']]  #ds.batsman, ds.batsman_team\n",
        "\n",
        "a_ds = final_ds.drop_duplicates(['Team_Batting_Id', 'Striker_Id'])[['Team_Batting_Id', 'Striker_Id']]\n",
        "\n",
        "# print(a_ds.loc[a_ds['Striker_Id'] == 57]['Striker_Id'])\n",
        "# print(a_ds)\n",
        "\n",
        "mapping = {}\n",
        "\n",
        "for index, row in a_ds.iterrows():\n",
        "    mapping[row['Striker_Id']] = row['Team_Batting_Id']\n",
        "\n",
        "print(mapping)\n",
        "\n",
        "A = []\n",
        "B = []\n",
        "F = []\n",
        "\n",
        "for i in runs[\"Striker_Id\"].unique():\n",
        "    a = runs[\"Batsman_Scored\"][runs[\"Striker_Id\"] == i].sum()\n",
        "    b = runs[\"Match_Id\"][runs[\"Striker_Id\"] == i].count()\n",
        "    A.append(a)\n",
        "    B.append(b)\n",
        "\n",
        "Batsmen = pd.DataFrame({\"Player_names\": runs[\"Striker_Id\"].unique()})\n",
        "Batsmen[\"Runs\"] = A\n",
        "Batsmen[\"Balls_played\"] = B\n",
        "\n",
        "# Calculating strike rate using the formula (strike_rate = runs per 100 balls faced)\n",
        "\n",
        "Batsmen[\"Strike_Rate\"] = (Batsmen[\"Runs\"] * 100 / Batsmen[\"Balls_played\"]).round(2)\n",
        "\n",
        "# Since we have to assess batsmen, the players with very low strike rates are not required to be considered\n",
        "# as they tend to bat very few times and are usually bowlers/fielders.\n",
        "\n",
        "Batsmen = Batsmen[Batsmen[\"Strike_Rate\"] > 60]\n",
        "Batsmen = Batsmen[Batsmen[\"Strike_Rate\"] < 150]\n",
        "\n",
        "# Applying another filtering - run rate, which is equal to runs per over(or per 6 balls).\n",
        "\n",
        "Batsmen = Batsmen[(Batsmen[\"Runs\"]*6/Batsmen[\"Balls_played\"]) > 6]\n",
        "\n",
        "Batsmen['Team_Batting_Id'] = Batsmen.apply(lambda row: mapping.get(row.Player_names), axis=1)\n",
        "\n",
        "Batsmen.head()"
      ],
      "execution_count": 0,
      "outputs": [
        {
          "output_type": "stream",
          "text": [
            "{57: 7, 254: 13, 207: 11, 208: 7, 372: 7, 46: 1, 40: 1, 96: 1, 308: 1, 31: 1, 147: 13, 2: 13, 21: 13, 303: 12, 35: 13, 20: 12, 71: 13, 201: 12, 364: 4, 260: 6, 360: 6, 109: 12, 393: 6, 237: 2, 27: 11, 154: 6, 371: 6, 136: 6, 386: 6, 85: 12, 351: 6, 306: 12, 339: 6, 255: 2, 310: 13, 394: 11, 350: 6, 41: 4, 62: 4, 185: 4, 305: 4, 374: 4, 320: 4, 197: 12, 357: 4, 395: 4, 392: 4, 187: 11, 42: 11, 354: 2, 183: 11, 161: 11, 396: 11, 166: 11, 366: 2, 334: 1, 276: 1, 162: 2, 8: 2, 88: 13, 236: 2, 110: 2, 362: 2, 397: 2, 311: 2, 246: 2, 191: 6, 377: 7, 356: 4, 221: 7, 398: 7, 50: 7, 296: 2, 382: 2, 17: 7, 262: 7, 388: 7, 322: 6, 73: 11, 399: 3, 216: 11, 325: 11, 383: 7, 81: 7, 14: 13, 280: 12, 329: 4, 284: 1, 67: 1, 32: 2, 400: 7, 214: 2, 380: 2, 401: 2, 140: 2, 87: 6, 100: 4, 163: 11, 402: 2, 378: 2, 403: 7, 194: 7, 80: 13, 370: 13, 340: 11, 94: 13, 299: 11, 367: 4, 293: 6, 404: 6, 345: 4, 192: 1, 79: 12, 405: 1, 232: 1, 316: 1, 406: 4, 233: 5, 373: 2, 228: 11, 315: 1, 355: 6, 89: 12, 314: 12, 387: 4, 19: 3, 321: 1, 190: 1, 270: 2, 407: 7, 158: 12, 408: 6, 15: 6, 409: 4, 410: 13, 411: 1, 253: 12, 412: 4, 413: 7, 414: 13, 29: 12, 415: 7, 416: 4, 417: 2, 363: 2, 418: 12, 419: 4, 209: 1, 420: 6, 336: 1, 421: 6, 347: 6, 391: 1, 369: 2, 422: 4, 423: 12, 424: 4, 425: 6, 426: 12, 427: 4, 375: 7, 428: 4, 429: 11, 430: 12, 431: 7, 432: 13, 385: 11, 433: 13, 186: 13, 434: 2}\n"
          ],
          "name": "stdout"
        },
        {
          "output_type": "execute_result",
          "data": {
            "text/html": [
              "<div>\n",
              "<style scoped>\n",
              "    .dataframe tbody tr th:only-of-type {\n",
              "        vertical-align: middle;\n",
              "    }\n",
              "\n",
              "    .dataframe tbody tr th {\n",
              "        vertical-align: top;\n",
              "    }\n",
              "\n",
              "    .dataframe thead th {\n",
              "        text-align: right;\n",
              "    }\n",
              "</style>\n",
              "<table border=\"1\" class=\"dataframe\">\n",
              "  <thead>\n",
              "    <tr style=\"text-align: right;\">\n",
              "      <th></th>\n",
              "      <th>Player_names</th>\n",
              "      <th>Runs</th>\n",
              "      <th>Balls_played</th>\n",
              "      <th>Strike_Rate</th>\n",
              "      <th>Team_Batting_Id</th>\n",
              "    </tr>\n",
              "  </thead>\n",
              "  <tbody>\n",
              "    <tr>\n",
              "      <th>0</th>\n",
              "      <td>57</td>\n",
              "      <td>971.0</td>\n",
              "      <td>711</td>\n",
              "      <td>136.57</td>\n",
              "      <td>7</td>\n",
              "    </tr>\n",
              "    <tr>\n",
              "      <th>1</th>\n",
              "      <td>254</td>\n",
              "      <td>416.0</td>\n",
              "      <td>344</td>\n",
              "      <td>120.93</td>\n",
              "      <td>13</td>\n",
              "    </tr>\n",
              "    <tr>\n",
              "      <th>3</th>\n",
              "      <td>208</td>\n",
              "      <td>615.0</td>\n",
              "      <td>479</td>\n",
              "      <td>128.39</td>\n",
              "      <td>7</td>\n",
              "    </tr>\n",
              "    <tr>\n",
              "      <th>4</th>\n",
              "      <td>372</td>\n",
              "      <td>114.0</td>\n",
              "      <td>98</td>\n",
              "      <td>116.33</td>\n",
              "      <td>7</td>\n",
              "    </tr>\n",
              "    <tr>\n",
              "      <th>5</th>\n",
              "      <td>46</td>\n",
              "      <td>758.0</td>\n",
              "      <td>587</td>\n",
              "      <td>129.13</td>\n",
              "      <td>1</td>\n",
              "    </tr>\n",
              "  </tbody>\n",
              "</table>\n",
              "</div>"
            ],
            "text/plain": [
              "   Player_names   Runs  Balls_played  Strike_Rate  Team_Batting_Id\n",
              "0            57  971.0           711       136.57                7\n",
              "1           254  416.0           344       120.93               13\n",
              "3           208  615.0           479       128.39                7\n",
              "4           372  114.0            98       116.33                7\n",
              "5            46  758.0           587       129.13                1"
            ]
          },
          "metadata": {
            "tags": []
          },
          "execution_count": 225
        }
      ]
    },
    {
      "cell_type": "code",
      "metadata": {
        "id": "uJho6j9TGNFy",
        "colab_type": "code",
        "outputId": "577b982a-e5ff-43cf-c518-28363b3dec69",
        "colab": {
          "base_uri": "https://localhost:8080/",
          "height": 282
        }
      },
      "source": [
        "# Checking the distribution of batsmen by plotting a histogram.\n",
        "\n",
        "Batsmen[\"Strike_Rate\"].hist(color=\"yellow\")"
      ],
      "execution_count": 0,
      "outputs": [
        {
          "output_type": "execute_result",
          "data": {
            "text/plain": [
              "<matplotlib.axes._subplots.AxesSubplot at 0x7f33b4a07c18>"
            ]
          },
          "metadata": {
            "tags": []
          },
          "execution_count": 226
        },
        {
          "output_type": "display_data",
          "data": {
            "image/png": "[encoded data removed]",
            "text/plain": [
              "<Figure size 432x288 with 1 Axes>"
            ]
          },
          "metadata": {
            "tags": []
          }
        }
      ]
    },
    {
      "cell_type": "code",
      "metadata": {
        "id": "hdUMypqKKuy4",
        "colab_type": "code",
        "outputId": "1ccac052-f870-4487-b014-4b6a0c7ba90e",
        "colab": {
          "base_uri": "https://localhost:8080/",
          "height": 410
        }
      },
      "source": [
        "#K-Means Clustering\n",
        "\n",
        "import matplotlib.pyplot as plt\n",
        "import seaborn as sns\n",
        "%matplotlib inline\n",
        "\n",
        "sns.set_style(\"whitegrid\")\n",
        "\n",
        "fig = plt.figure(figsize=(12,6))\n",
        "plt.scatter(Batsmen[\"Strike_Rate\"], Batsmen[\"Runs\"], color=\"red\")\n",
        "plt.xlabel(\"Strike Rate of the Batsmen\", fontsize=14)\n",
        "plt.ylabel(\"Runs scored by the Batsmen\", fontsize=14)\n",
        "plt.title(\"IPL Batsmen\", fontsize=16)\n",
        "plt.show()"
      ],
      "execution_count": 0,
      "outputs": [
        {
          "output_type": "display_data",
          "data": {
            "image/png": "[encoded data removed]",
            "text/plain": [
              "<Figure size 864x432 with 1 Axes>"
            ]
          },
          "metadata": {
            "tags": []
          }
        }
      ]
    },
    {
      "cell_type": "code",
      "metadata": {
        "id": "xOnrA7-dLDEG",
        "colab_type": "code",
        "outputId": "ead65ac8-01b4-4297-b137-56b7da94d153",
        "colab": {
          "base_uri": "https://localhost:8080/",
          "height": 102
        }
      },
      "source": [
        "from sklearn.cluster import KMeans\n",
        "\n",
        "kmeans = KMeans(n_clusters=5)\n",
        "kmeans.fit(Batsmen[[\"Strike_Rate\", \"Runs\"]])\n",
        "Batsmen[\"cluster\"] = kmeans.labels_\n",
        "labels=kmeans.predict(Batsmen[[\"Strike_Rate\", \"Runs\"]])\n",
        "labels"
      ],
      "execution_count": 0,
      "outputs": [
        {
          "output_type": "execute_result",
          "data": {
            "text/plain": [
              "array([4, 0, 0, 1, 4, 4, 0, 3, 4, 4, 4, 4, 0, 3, 0, 3, 1, 1, 3, 1, 0, 3,\n",
              "       0, 0, 4, 0, 0, 0, 1, 3, 3, 1, 0, 4, 3, 3, 0, 3, 2, 4, 0, 3, 1, 1,\n",
              "       1, 1, 4, 2, 0, 1, 1, 1, 1, 1, 0, 1, 3, 0, 1, 3, 3, 0, 1, 1, 1, 1,\n",
              "       0, 1, 1, 1, 1, 1, 3, 0, 1, 1, 1, 3, 3, 1, 1, 0, 1, 1, 1, 3, 1, 1,\n",
              "       1, 1, 1, 1, 3, 1, 1, 1, 1, 1, 1, 1, 1, 1], dtype=int32)"
            ]
          },
          "metadata": {
            "tags": []
          },
          "execution_count": 228
        }
      ]
    },
    {
      "cell_type": "code",
      "metadata": {
        "id": "tkHJhoz1SnsS",
        "colab_type": "code",
        "outputId": "09373511-8bd4-42cb-f706-be7e74095d65",
        "colab": {
          "base_uri": "https://localhost:8080/",
          "height": 221
        }
      },
      "source": [
        "Batsmen[\"cluster\"]"
      ],
      "execution_count": 0,
      "outputs": [
        {
          "output_type": "execute_result",
          "data": {
            "text/plain": [
              "0      4\n",
              "1      0\n",
              "3      0\n",
              "4      1\n",
              "5      4\n",
              "      ..\n",
              "154    1\n",
              "158    1\n",
              "159    1\n",
              "161    1\n",
              "164    1\n",
              "Name: cluster, Length: 102, dtype: int32"
            ]
          },
          "metadata": {
            "tags": []
          },
          "execution_count": 229
        }
      ]
    },
    {
      "cell_type": "code",
      "metadata": {
        "id": "k-EvYy-gR7f0",
        "colab_type": "code",
        "outputId": "39873505-3a36-4f02-f1a4-72c58da70d66",
        "colab": {
          "base_uri": "https://localhost:8080/",
          "height": 410
        }
      },
      "source": [
        "fig = plt.figure(figsize=(12,6))\n",
        "\n",
        "colors = [\"blue\", \"sienna\", \"limegreen\", \"red\", \"indigo\"]\n",
        "\n",
        "for r in range(1,6):\n",
        "    clustered_Batsmen = Batsmen[Batsmen[\"cluster\"] == r]\n",
        "    plt.scatter(clustered_Batsmen[\"Strike_Rate\"], clustered_Batsmen[\"Runs\"], color=colors[r-1])\n",
        "    \n",
        "plt.title(\"IPL Batsmen\", fontsize=16)\n",
        "plt.xlabel(\"Strike Rate of the Batsmen\", fontsize=14)\n",
        "plt.ylabel(\"Runs scored by the Batsmen\", fontsize=14)\n",
        "    \n",
        "plt.show()"
      ],
      "execution_count": 0,
      "outputs": [
        {
          "output_type": "display_data",
          "data": {
            "image/png": "[encoded data removed]",
            "text/plain": [
              "<Figure size 864x432 with 1 Axes>"
            ]
          },
          "metadata": {
            "tags": []
          }
        }
      ]
    },
    {
      "cell_type": "code",
      "metadata": {
        "id": "iyfHj5giLPKH",
        "colab_type": "code",
        "outputId": "22d821af-e0c1-4cb1-b780-78d494efaa0f",
        "colab": {
          "base_uri": "https://localhost:8080/",
          "height": 514
        }
      },
      "source": [
        "Batsmen = Batsmen.rename(columns={\"Player_names\": \"Player_Id\"})\n",
        "\n",
        "Batsmen = Batsmen[Batsmen.columns].merge(Players, \"left\")\n",
        "Batsmen.head(15)"
      ],
      "execution_count": 0,
      "outputs": [
        {
          "output_type": "execute_result",
          "data": {
            "text/html": [
              "<div>\n",
              "<style scoped>\n",
              "    .dataframe tbody tr th:only-of-type {\n",
              "        vertical-align: middle;\n",
              "    }\n",
              "\n",
              "    .dataframe tbody tr th {\n",
              "        vertical-align: top;\n",
              "    }\n",
              "\n",
              "    .dataframe thead th {\n",
              "        text-align: right;\n",
              "    }\n",
              "</style>\n",
              "<table border=\"1\" class=\"dataframe\">\n",
              "  <thead>\n",
              "    <tr style=\"text-align: right;\">\n",
              "      <th></th>\n",
              "      <th>Player_Id</th>\n",
              "      <th>Runs</th>\n",
              "      <th>Balls_played</th>\n",
              "      <th>Strike_Rate</th>\n",
              "      <th>Team_Batting_Id</th>\n",
              "      <th>cluster</th>\n",
              "      <th>Player_Name</th>\n",
              "    </tr>\n",
              "  </thead>\n",
              "  <tbody>\n",
              "    <tr>\n",
              "      <th>0</th>\n",
              "      <td>57</td>\n",
              "      <td>971.0</td>\n",
              "      <td>711</td>\n",
              "      <td>136.57</td>\n",
              "      <td>7</td>\n",
              "      <td>4</td>\n",
              "      <td>RG Sharma</td>\n",
              "    </tr>\n",
              "    <tr>\n",
              "      <th>1</th>\n",
              "      <td>254</td>\n",
              "      <td>416.0</td>\n",
              "      <td>344</td>\n",
              "      <td>120.93</td>\n",
              "      <td>13</td>\n",
              "      <td>0</td>\n",
              "      <td>AJ Finch</td>\n",
              "    </tr>\n",
              "    <tr>\n",
              "      <th>2</th>\n",
              "      <td>208</td>\n",
              "      <td>615.0</td>\n",
              "      <td>479</td>\n",
              "      <td>128.39</td>\n",
              "      <td>7</td>\n",
              "      <td>0</td>\n",
              "      <td>AT Rayudu</td>\n",
              "    </tr>\n",
              "    <tr>\n",
              "      <th>3</th>\n",
              "      <td>372</td>\n",
              "      <td>114.0</td>\n",
              "      <td>98</td>\n",
              "      <td>116.33</td>\n",
              "      <td>7</td>\n",
              "      <td>1</td>\n",
              "      <td>CJ Anderson</td>\n",
              "    </tr>\n",
              "    <tr>\n",
              "      <th>4</th>\n",
              "      <td>46</td>\n",
              "      <td>758.0</td>\n",
              "      <td>587</td>\n",
              "      <td>129.13</td>\n",
              "      <td>1</td>\n",
              "      <td>4</td>\n",
              "      <td>RV Uthappa</td>\n",
              "    </tr>\n",
              "    <tr>\n",
              "      <th>5</th>\n",
              "      <td>40</td>\n",
              "      <td>828.0</td>\n",
              "      <td>712</td>\n",
              "      <td>116.29</td>\n",
              "      <td>1</td>\n",
              "      <td>4</td>\n",
              "      <td>G Gambhir</td>\n",
              "    </tr>\n",
              "    <tr>\n",
              "      <th>6</th>\n",
              "      <td>96</td>\n",
              "      <td>473.0</td>\n",
              "      <td>377</td>\n",
              "      <td>125.46</td>\n",
              "      <td>1</td>\n",
              "      <td>0</td>\n",
              "      <td>MK Pandey</td>\n",
              "    </tr>\n",
              "    <tr>\n",
              "      <th>7</th>\n",
              "      <td>308</td>\n",
              "      <td>339.0</td>\n",
              "      <td>263</td>\n",
              "      <td>128.90</td>\n",
              "      <td>1</td>\n",
              "      <td>3</td>\n",
              "      <td>SA Yadav</td>\n",
              "    </tr>\n",
              "    <tr>\n",
              "      <th>8</th>\n",
              "      <td>31</td>\n",
              "      <td>673.0</td>\n",
              "      <td>499</td>\n",
              "      <td>134.87</td>\n",
              "      <td>1</td>\n",
              "      <td>4</td>\n",
              "      <td>YK Pathan</td>\n",
              "    </tr>\n",
              "    <tr>\n",
              "      <th>9</th>\n",
              "      <td>147</td>\n",
              "      <td>723.0</td>\n",
              "      <td>567</td>\n",
              "      <td>127.51</td>\n",
              "      <td>13</td>\n",
              "      <td>4</td>\n",
              "      <td>DR Smith</td>\n",
              "    </tr>\n",
              "    <tr>\n",
              "      <th>10</th>\n",
              "      <td>2</td>\n",
              "      <td>790.0</td>\n",
              "      <td>566</td>\n",
              "      <td>139.58</td>\n",
              "      <td>13</td>\n",
              "      <td>4</td>\n",
              "      <td>BB McCullum</td>\n",
              "    </tr>\n",
              "    <tr>\n",
              "      <th>11</th>\n",
              "      <td>21</td>\n",
              "      <td>773.0</td>\n",
              "      <td>640</td>\n",
              "      <td>120.78</td>\n",
              "      <td>13</td>\n",
              "      <td>4</td>\n",
              "      <td>SK Raina</td>\n",
              "    </tr>\n",
              "    <tr>\n",
              "      <th>12</th>\n",
              "      <td>303</td>\n",
              "      <td>586.0</td>\n",
              "      <td>486</td>\n",
              "      <td>120.58</td>\n",
              "      <td>12</td>\n",
              "      <td>0</td>\n",
              "      <td>F du Plessis</td>\n",
              "    </tr>\n",
              "    <tr>\n",
              "      <th>13</th>\n",
              "      <td>35</td>\n",
              "      <td>323.0</td>\n",
              "      <td>317</td>\n",
              "      <td>101.89</td>\n",
              "      <td>13</td>\n",
              "      <td>3</td>\n",
              "      <td>RA Jadeja</td>\n",
              "    </tr>\n",
              "    <tr>\n",
              "      <th>14</th>\n",
              "      <td>20</td>\n",
              "      <td>656.0</td>\n",
              "      <td>529</td>\n",
              "      <td>124.01</td>\n",
              "      <td>12</td>\n",
              "      <td>0</td>\n",
              "      <td>MS Dhoni</td>\n",
              "    </tr>\n",
              "  </tbody>\n",
              "</table>\n",
              "</div>"
            ],
            "text/plain": [
              "    Player_Id   Runs  Balls_played  ...  Team_Batting_Id  cluster   Player_Name\n",
              "0          57  971.0           711  ...                7        4     RG Sharma\n",
              "1         254  416.0           344  ...               13        0      AJ Finch\n",
              "2         208  615.0           479  ...                7        0     AT Rayudu\n",
              "3         372  114.0            98  ...                7        1   CJ Anderson\n",
              "4          46  758.0           587  ...                1        4    RV Uthappa\n",
              "5          40  828.0           712  ...                1        4     G Gambhir\n",
              "6          96  473.0           377  ...                1        0     MK Pandey\n",
              "7         308  339.0           263  ...                1        3      SA Yadav\n",
              "8          31  673.0           499  ...                1        4     YK Pathan\n",
              "9         147  723.0           567  ...               13        4      DR Smith\n",
              "10          2  790.0           566  ...               13        4   BB McCullum\n",
              "11         21  773.0           640  ...               13        4      SK Raina\n",
              "12        303  586.0           486  ...               12        0  F du Plessis\n",
              "13         35  323.0           317  ...               13        3     RA Jadeja\n",
              "14         20  656.0           529  ...               12        0      MS Dhoni\n",
              "\n",
              "[15 rows x 7 columns]"
            ]
          },
          "metadata": {
            "tags": []
          },
          "execution_count": 231
        }
      ]
    },
    {
      "cell_type": "code",
      "metadata": {
        "id": "7PARewTcW8VN",
        "colab_type": "code",
        "outputId": "78dc9f80-4661-45c8-c1ed-86b2f83f3da7",
        "colab": {
          "base_uri": "https://localhost:8080/",
          "height": 419
        }
      },
      "source": [
        "batting_team_id={'RR': 12, 'CSK': 13,'MI': 7, 'KKR': 1, 'SRH': 11, 'DC': 6, 'RCB':2,'KXIP':4}\n",
        "Batsmen.sort_values(by=['cluster', 'Runs', 'Strike_Rate'], ascending=False)"
      ],
      "execution_count": 0,
      "outputs": [
        {
          "output_type": "execute_result",
          "data": {
            "text/html": [
              "<div>\n",
              "<style scoped>\n",
              "    .dataframe tbody tr th:only-of-type {\n",
              "        vertical-align: middle;\n",
              "    }\n",
              "\n",
              "    .dataframe tbody tr th {\n",
              "        vertical-align: top;\n",
              "    }\n",
              "\n",
              "    .dataframe thead th {\n",
              "        text-align: right;\n",
              "    }\n",
              "</style>\n",
              "<table border=\"1\" class=\"dataframe\">\n",
              "  <thead>\n",
              "    <tr style=\"text-align: right;\">\n",
              "      <th></th>\n",
              "      <th>Player_Id</th>\n",
              "      <th>Runs</th>\n",
              "      <th>Balls_played</th>\n",
              "      <th>Strike_Rate</th>\n",
              "      <th>Team_Batting_Id</th>\n",
              "      <th>cluster</th>\n",
              "      <th>Player_Name</th>\n",
              "    </tr>\n",
              "  </thead>\n",
              "  <tbody>\n",
              "    <tr>\n",
              "      <th>24</th>\n",
              "      <td>85</td>\n",
              "      <td>1020.0</td>\n",
              "      <td>810</td>\n",
              "      <td>125.93</td>\n",
              "      <td>12</td>\n",
              "      <td>4</td>\n",
              "      <td>AM Rahane</td>\n",
              "    </tr>\n",
              "    <tr>\n",
              "      <th>0</th>\n",
              "      <td>57</td>\n",
              "      <td>971.0</td>\n",
              "      <td>711</td>\n",
              "      <td>136.57</td>\n",
              "      <td>7</td>\n",
              "      <td>4</td>\n",
              "      <td>RG Sharma</td>\n",
              "    </tr>\n",
              "    <tr>\n",
              "      <th>39</th>\n",
              "      <td>42</td>\n",
              "      <td>854.0</td>\n",
              "      <td>731</td>\n",
              "      <td>116.83</td>\n",
              "      <td>11</td>\n",
              "      <td>4</td>\n",
              "      <td>S Dhawan</td>\n",
              "    </tr>\n",
              "    <tr>\n",
              "      <th>5</th>\n",
              "      <td>40</td>\n",
              "      <td>828.0</td>\n",
              "      <td>712</td>\n",
              "      <td>116.29</td>\n",
              "      <td>1</td>\n",
              "      <td>4</td>\n",
              "      <td>G Gambhir</td>\n",
              "    </tr>\n",
              "    <tr>\n",
              "      <th>10</th>\n",
              "      <td>2</td>\n",
              "      <td>790.0</td>\n",
              "      <td>566</td>\n",
              "      <td>139.58</td>\n",
              "      <td>13</td>\n",
              "      <td>4</td>\n",
              "      <td>BB McCullum</td>\n",
              "    </tr>\n",
              "    <tr>\n",
              "      <th>...</th>\n",
              "      <td>...</td>\n",
              "      <td>...</td>\n",
              "      <td>...</td>\n",
              "      <td>...</td>\n",
              "      <td>...</td>\n",
              "      <td>...</td>\n",
              "      <td>...</td>\n",
              "    </tr>\n",
              "    <tr>\n",
              "      <th>48</th>\n",
              "      <td>88</td>\n",
              "      <td>476.0</td>\n",
              "      <td>393</td>\n",
              "      <td>121.12</td>\n",
              "      <td>13</td>\n",
              "      <td>0</td>\n",
              "      <td>KD Karthik</td>\n",
              "    </tr>\n",
              "    <tr>\n",
              "      <th>6</th>\n",
              "      <td>96</td>\n",
              "      <td>473.0</td>\n",
              "      <td>377</td>\n",
              "      <td>125.46</td>\n",
              "      <td>1</td>\n",
              "      <td>0</td>\n",
              "      <td>MK Pandey</td>\n",
              "    </tr>\n",
              "    <tr>\n",
              "      <th>73</th>\n",
              "      <td>163</td>\n",
              "      <td>469.0</td>\n",
              "      <td>378</td>\n",
              "      <td>124.07</td>\n",
              "      <td>11</td>\n",
              "      <td>0</td>\n",
              "      <td>MC Henriques</td>\n",
              "    </tr>\n",
              "    <tr>\n",
              "      <th>20</th>\n",
              "      <td>393</td>\n",
              "      <td>469.0</td>\n",
              "      <td>406</td>\n",
              "      <td>115.52</td>\n",
              "      <td>6</td>\n",
              "      <td>0</td>\n",
              "      <td>SS Iyer</td>\n",
              "    </tr>\n",
              "    <tr>\n",
              "      <th>1</th>\n",
              "      <td>254</td>\n",
              "      <td>416.0</td>\n",
              "      <td>344</td>\n",
              "      <td>120.93</td>\n",
              "      <td>13</td>\n",
              "      <td>0</td>\n",
              "      <td>AJ Finch</td>\n",
              "    </tr>\n",
              "  </tbody>\n",
              "</table>\n",
              "<p>102 rows × 7 columns</p>\n",
              "</div>"
            ],
            "text/plain": [
              "    Player_Id    Runs  Balls_played  ...  Team_Batting_Id  cluster   Player_Name\n",
              "24         85  1020.0           810  ...               12        4     AM Rahane\n",
              "0          57   971.0           711  ...                7        4     RG Sharma\n",
              "39         42   854.0           731  ...               11        4      S Dhawan\n",
              "5          40   828.0           712  ...                1        4     G Gambhir\n",
              "10          2   790.0           566  ...               13        4   BB McCullum\n",
              "..        ...     ...           ...  ...              ...      ...           ...\n",
              "48         88   476.0           393  ...               13        0    KD Karthik\n",
              "6          96   473.0           377  ...                1        0     MK Pandey\n",
              "73        163   469.0           378  ...               11        0  MC Henriques\n",
              "20        393   469.0           406  ...                6        0       SS Iyer\n",
              "1         254   416.0           344  ...               13        0      AJ Finch\n",
              "\n",
              "[102 rows x 7 columns]"
            ]
          },
          "metadata": {
            "tags": []
          },
          "execution_count": 232
        }
      ]
    },
    {
      "cell_type": "code",
      "metadata": {
        "id": "412YDy2jXsAI",
        "colab_type": "code",
        "outputId": "55601716-d26a-462a-a507-c18843e49be7",
        "colab": {
          "base_uri": "https://localhost:8080/",
          "height": 119
        }
      },
      "source": [
        "Batsmen['cluster'].value_counts()"
      ],
      "execution_count": 0,
      "outputs": [
        {
          "output_type": "execute_result",
          "data": {
            "text/plain": [
              "1    49\n",
              "0    21\n",
              "3    19\n",
              "4    11\n",
              "2     2\n",
              "Name: cluster, dtype: int64"
            ]
          },
          "metadata": {
            "tags": []
          },
          "execution_count": 233
        }
      ]
    },
    {
      "cell_type": "code",
      "metadata": {
        "id": "zUxnjuAtVXFq",
        "colab_type": "code",
        "outputId": "2000f4a5-b79e-451a-caa2-cd2959be7a26",
        "colab": {
          "base_uri": "https://localhost:8080/",
          "height": 235
        }
      },
      "source": [
        "top_batsmen = Batsmen[Batsmen['Team_Batting_Id'] == 4]\n",
        "top_batsmen.head(6)"
      ],
      "execution_count": 0,
      "outputs": [
        {
          "output_type": "execute_result",
          "data": {
            "text/html": [
              "<div>\n",
              "<style scoped>\n",
              "    .dataframe tbody tr th:only-of-type {\n",
              "        vertical-align: middle;\n",
              "    }\n",
              "\n",
              "    .dataframe tbody tr th {\n",
              "        vertical-align: top;\n",
              "    }\n",
              "\n",
              "    .dataframe thead th {\n",
              "        text-align: right;\n",
              "    }\n",
              "</style>\n",
              "<table border=\"1\" class=\"dataframe\">\n",
              "  <thead>\n",
              "    <tr style=\"text-align: right;\">\n",
              "      <th></th>\n",
              "      <th>Player_Id</th>\n",
              "      <th>Runs</th>\n",
              "      <th>Balls_played</th>\n",
              "      <th>Strike_Rate</th>\n",
              "      <th>Team_Batting_Id</th>\n",
              "      <th>cluster</th>\n",
              "      <th>Player_Name</th>\n",
              "    </tr>\n",
              "  </thead>\n",
              "  <tbody>\n",
              "    <tr>\n",
              "      <th>17</th>\n",
              "      <td>364</td>\n",
              "      <td>60.0</td>\n",
              "      <td>45</td>\n",
              "      <td>133.33</td>\n",
              "      <td>4</td>\n",
              "      <td>1</td>\n",
              "      <td>MM Sharma</td>\n",
              "    </tr>\n",
              "    <tr>\n",
              "      <th>31</th>\n",
              "      <td>41</td>\n",
              "      <td>99.0</td>\n",
              "      <td>89</td>\n",
              "      <td>111.24</td>\n",
              "      <td>4</td>\n",
              "      <td>1</td>\n",
              "      <td>V Sehwag</td>\n",
              "    </tr>\n",
              "    <tr>\n",
              "      <th>32</th>\n",
              "      <td>62</td>\n",
              "      <td>519.0</td>\n",
              "      <td>419</td>\n",
              "      <td>123.87</td>\n",
              "      <td>4</td>\n",
              "      <td>0</td>\n",
              "      <td>WP Saha</td>\n",
              "    </tr>\n",
              "    <tr>\n",
              "      <th>33</th>\n",
              "      <td>185</td>\n",
              "      <td>704.0</td>\n",
              "      <td>606</td>\n",
              "      <td>116.17</td>\n",
              "      <td>4</td>\n",
              "      <td>4</td>\n",
              "      <td>M Vijay</td>\n",
              "    </tr>\n",
              "    <tr>\n",
              "      <th>34</th>\n",
              "      <td>305</td>\n",
              "      <td>325.0</td>\n",
              "      <td>244</td>\n",
              "      <td>133.20</td>\n",
              "      <td>4</td>\n",
              "      <td>3</td>\n",
              "      <td>GJ Maxwell</td>\n",
              "    </tr>\n",
              "    <tr>\n",
              "      <th>35</th>\n",
              "      <td>374</td>\n",
              "      <td>317.0</td>\n",
              "      <td>262</td>\n",
              "      <td>120.99</td>\n",
              "      <td>4</td>\n",
              "      <td>3</td>\n",
              "      <td>AR Patel</td>\n",
              "    </tr>\n",
              "  </tbody>\n",
              "</table>\n",
              "</div>"
            ],
            "text/plain": [
              "    Player_Id   Runs  Balls_played  ...  Team_Batting_Id  cluster  Player_Name\n",
              "17        364   60.0            45  ...                4        1    MM Sharma\n",
              "31         41   99.0            89  ...                4        1     V Sehwag\n",
              "32         62  519.0           419  ...                4        0      WP Saha\n",
              "33        185  704.0           606  ...                4        4      M Vijay\n",
              "34        305  325.0           244  ...                4        3   GJ Maxwell\n",
              "35        374  317.0           262  ...                4        3     AR Patel\n",
              "\n",
              "[6 rows x 7 columns]"
            ]
          },
          "metadata": {
            "tags": []
          },
          "execution_count": 234
        }
      ]
    },
    {
      "cell_type": "markdown",
      "metadata": {
        "id": "ro5U8NL6NZNy",
        "colab_type": "text"
      },
      "source": [
        "#Applying K-means clustering on bowlers"
      ]
    },
    {
      "cell_type": "code",
      "metadata": {
        "id": "payz5nqcLbKL",
        "colab_type": "code",
        "outputId": "bec5b7a0-3e51-4a46-a712-ff8c7f4ceb88",
        "colab": {
          "base_uri": "https://localhost:8080/",
          "height": 204
        }
      },
      "source": [
        "C = []\n",
        "E = []\n",
        "\n",
        "for j in runs[\"Bowler_Id\"].unique():\n",
        "    c = runs[\"Batsman_Scored\"][runs[\"Bowler_Id\"] == j].sum() + runs[\"Extra_Runs\"][runs[\"Bowler_Id\"] == j].sum()\n",
        "    \n",
        "    e = runs[\"Over_Id\"][runs[\"Bowler_Id\"] == j].count()/6\n",
        "    \n",
        "    C.append(c)\n",
        "    E.append(e)\n",
        "    \n",
        "Bowlers = pd.DataFrame({\"Bowler_names\": runs[\"Bowler_Id\"].unique()})\n",
        "\n",
        "Bowlers[\"Runs\"] = C\n",
        "Bowlers[\"Over_count\"] = E\n",
        "\n",
        "# Economy rate can be calculated by dividing the total runs conceded by the number of overs bowled.\n",
        "\n",
        "Bowlers[\"Econ_Rate\"] = (Bowlers[\"Runs\"] / Bowlers[\"Over_count\"]).round(2)\n",
        "\n",
        "final_ds = runs[['Team_Bowling_Id', 'Bowler_Id']] \n",
        "\n",
        "a_ds = final_ds.drop_duplicates(['Team_Bowling_Id', 'Bowler_Id'])[['Team_Bowling_Id', 'Bowler_Id']]\n",
        "\n",
        "# print(a_ds.loc[a_ds['Striker_Id'] == 57]['Striker_Id'])\n",
        "# print(a_ds)\n",
        "\n",
        "mapping = {}\n",
        "\n",
        "for index, row in a_ds.iterrows():\n",
        "    mapping[row['Bowler_Id']] = row['Team_Bowling_Id']\n",
        "\n",
        "Bowlers['Team_Bowling_Id'] = Bowlers.apply(lambda row: mapping.get(row.Bowler_names), axis=1)\n",
        "\n",
        "Bowlers.head()"
      ],
      "execution_count": 0,
      "outputs": [
        {
          "output_type": "execute_result",
          "data": {
            "text/html": [
              "<div>\n",
              "<style scoped>\n",
              "    .dataframe tbody tr th:only-of-type {\n",
              "        vertical-align: middle;\n",
              "    }\n",
              "\n",
              "    .dataframe tbody tr th {\n",
              "        vertical-align: top;\n",
              "    }\n",
              "\n",
              "    .dataframe thead th {\n",
              "        text-align: right;\n",
              "    }\n",
              "</style>\n",
              "<table border=\"1\" class=\"dataframe\">\n",
              "  <thead>\n",
              "    <tr style=\"text-align: right;\">\n",
              "      <th></th>\n",
              "      <th>Bowler_names</th>\n",
              "      <th>Runs</th>\n",
              "      <th>Over_count</th>\n",
              "      <th>Econ_Rate</th>\n",
              "      <th>Team_Bowling_Id</th>\n",
              "    </tr>\n",
              "  </thead>\n",
              "  <tbody>\n",
              "    <tr>\n",
              "      <th>0</th>\n",
              "      <td>232</td>\n",
              "      <td>633.0</td>\n",
              "      <td>71.500000</td>\n",
              "      <td>8.85</td>\n",
              "      <td>1</td>\n",
              "    </tr>\n",
              "    <tr>\n",
              "      <th>1</th>\n",
              "      <td>190</td>\n",
              "      <td>511.0</td>\n",
              "      <td>65.666667</td>\n",
              "      <td>7.78</td>\n",
              "      <td>1</td>\n",
              "    </tr>\n",
              "    <tr>\n",
              "      <th>2</th>\n",
              "      <td>276</td>\n",
              "      <td>370.0</td>\n",
              "      <td>46.500000</td>\n",
              "      <td>7.96</td>\n",
              "      <td>1</td>\n",
              "    </tr>\n",
              "    <tr>\n",
              "      <th>3</th>\n",
              "      <td>315</td>\n",
              "      <td>556.0</td>\n",
              "      <td>76.333333</td>\n",
              "      <td>7.28</td>\n",
              "      <td>1</td>\n",
              "    </tr>\n",
              "    <tr>\n",
              "      <th>4</th>\n",
              "      <td>334</td>\n",
              "      <td>633.0</td>\n",
              "      <td>79.666667</td>\n",
              "      <td>7.95</td>\n",
              "      <td>1</td>\n",
              "    </tr>\n",
              "  </tbody>\n",
              "</table>\n",
              "</div>"
            ],
            "text/plain": [
              "   Bowler_names   Runs  Over_count  Econ_Rate  Team_Bowling_Id\n",
              "0           232  633.0   71.500000       8.85                1\n",
              "1           190  511.0   65.666667       7.78                1\n",
              "2           276  370.0   46.500000       7.96                1\n",
              "3           315  556.0   76.333333       7.28                1\n",
              "4           334  633.0   79.666667       7.95                1"
            ]
          },
          "metadata": {
            "tags": []
          },
          "execution_count": 241
        }
      ]
    },
    {
      "cell_type": "code",
      "metadata": {
        "id": "_0lKRcFGXJwt",
        "colab_type": "code",
        "outputId": "dcdc2bf4-478b-41be-e008-316e3ab6f2fd",
        "colab": {
          "base_uri": "https://localhost:8080/",
          "height": 119
        }
      },
      "source": [
        "Bowlers.dtypes"
      ],
      "execution_count": 0,
      "outputs": [
        {
          "output_type": "execute_result",
          "data": {
            "text/plain": [
              "Bowler_names         int64\n",
              "Runs               float64\n",
              "Over_count         float64\n",
              "Econ_Rate          float64\n",
              "Team_Bowling_Id      int64\n",
              "dtype: object"
            ]
          },
          "metadata": {
            "tags": []
          },
          "execution_count": 242
        }
      ]
    },
    {
      "cell_type": "code",
      "metadata": {
        "id": "mhNvEqGfMT5t",
        "colab_type": "code",
        "outputId": "fccefde9-019b-4e6c-d07e-83b9dce8d536",
        "colab": {
          "base_uri": "https://localhost:8080/",
          "height": 282
        }
      },
      "source": [
        "\n",
        "# Checking the distribution of batsmen by plotting a histogram.\n",
        "\n",
        "Bowlers[\"Econ_Rate\"].hist(color=\"orange\")"
      ],
      "execution_count": 0,
      "outputs": [
        {
          "output_type": "execute_result",
          "data": {
            "text/plain": [
              "<matplotlib.axes._subplots.AxesSubplot at 0x7f33b48bf198>"
            ]
          },
          "metadata": {
            "tags": []
          },
          "execution_count": 243
        },
        {
          "output_type": "display_data",
          "data": {
            "image/png": "[encoded data removed]",
            "text/plain": [
              "<Figure size 432x288 with 1 Axes>"
            ]
          },
          "metadata": {
            "tags": []
          }
        }
      ]
    },
    {
      "cell_type": "code",
      "metadata": {
        "id": "QBRd0A93MZa1",
        "colab_type": "code",
        "colab": {}
      },
      "source": [
        "Bowlers = Bowlers[(Bowlers[\"Econ_Rate\"] > 4) & (Bowlers[\"Econ_Rate\"] < 10.5)]"
      ],
      "execution_count": 0,
      "outputs": []
    },
    {
      "cell_type": "code",
      "metadata": {
        "id": "5r0yDlygMqm1",
        "colab_type": "code",
        "outputId": "ef4570b7-9614-478a-a693-8cd0bbac0a9e",
        "colab": {
          "base_uri": "https://localhost:8080/",
          "height": 410
        }
      },
      "source": [
        "sns.set_style(\"whitegrid\")\n",
        "\n",
        "fig = plt.figure(figsize=(12,6))\n",
        "plt.scatter(Bowlers[\"Econ_Rate\"], Bowlers[\"Runs\"], color=\"teal\")\n",
        "plt.xlabel(\"Economy Rate of the Bowler\", fontsize=14)\n",
        "plt.ylabel(\"Number of Overs bowled by the Bowler\", fontsize=14)\n",
        "plt.title(\"IPL Bowlers\", fontsize=16)\n",
        "plt.show()"
      ],
      "execution_count": 0,
      "outputs": [
        {
          "output_type": "display_data",
          "data": {
            "image/png": "[encoded data removed]",
            "text/plain": [
              "<Figure size 864x432 with 1 Axes>"
            ]
          },
          "metadata": {
            "tags": []
          }
        }
      ]
    },
    {
      "cell_type": "code",
      "metadata": {
        "id": "cONqaLDrMuTf",
        "colab_type": "code",
        "outputId": "440e5cbd-d21a-4576-87ae-ea2f6ba160b6",
        "colab": {
          "base_uri": "https://localhost:8080/",
          "height": 410
        }
      },
      "source": [
        "from sklearn.cluster import KMeans\n",
        "\n",
        "kmeans = KMeans(n_clusters=5)\n",
        "kmeans.fit(Bowlers[[\"Econ_Rate\", \"Over_count\"]])\n",
        "Bowlers[\"cluster\"] = kmeans.labels_\n",
        "\n",
        "fig = plt.figure(figsize=(12,6))\n",
        "\n",
        "colors = [\"blue\", \"lightgreen\", \"black\", \"red\"]\n",
        "\n",
        "for r in range(1,5):\n",
        "    clustered_Bowlers = Bowlers[Bowlers[\"cluster\"] == r]\n",
        "    plt.scatter(clustered_Bowlers[\"Econ_Rate\"], clustered_Bowlers[\"Over_count\"], color=colors[r-1])\n",
        "    \n",
        "plt.title(\"IPL Bowlers\", fontsize=16)\n",
        "plt.xlabel(\"Economy Rate of the Bowler\", fontsize=14)\n",
        "plt.ylabel(\"Number of Overs bowled by the Bowler\", fontsize=14)\n",
        "    \n",
        "plt.show()"
      ],
      "execution_count": 0,
      "outputs": [
        {
          "output_type": "display_data",
          "data": {
            "image/png": "[encoded data removed]",
            "text/plain": [
              "<Figure size 864x432 with 1 Axes>"
            ]
          },
          "metadata": {
            "tags": []
          }
        }
      ]
    },
    {
      "cell_type": "code",
      "metadata": {
        "id": "VrW4oWBLMySf",
        "colab_type": "code",
        "outputId": "c27a06bd-14ce-47b0-895f-6a1bb2736d97",
        "colab": {
          "base_uri": "https://localhost:8080/",
          "height": 204
        }
      },
      "source": [
        "bowling_team_id={'RR': 12, 'CSK': 13,'MI': 7, 'KKR': 1, 'SRH': 11, 'DC': 6, 'RCB':2,'KXIP':4}\n",
        "Bowlers = Bowlers.rename(columns={\"Bowler_names\": \"Player_Id\"})\n",
        "Bowlers.head()\n"
      ],
      "execution_count": 0,
      "outputs": [
        {
          "output_type": "execute_result",
          "data": {
            "text/html": [
              "<div>\n",
              "<style scoped>\n",
              "    .dataframe tbody tr th:only-of-type {\n",
              "        vertical-align: middle;\n",
              "    }\n",
              "\n",
              "    .dataframe tbody tr th {\n",
              "        vertical-align: top;\n",
              "    }\n",
              "\n",
              "    .dataframe thead th {\n",
              "        text-align: right;\n",
              "    }\n",
              "</style>\n",
              "<table border=\"1\" class=\"dataframe\">\n",
              "  <thead>\n",
              "    <tr style=\"text-align: right;\">\n",
              "      <th></th>\n",
              "      <th>Player_Id</th>\n",
              "      <th>Runs</th>\n",
              "      <th>Over_count</th>\n",
              "      <th>Econ_Rate</th>\n",
              "      <th>Team_Bowling_Id</th>\n",
              "      <th>cluster</th>\n",
              "      <th>Player_Name</th>\n",
              "    </tr>\n",
              "  </thead>\n",
              "  <tbody>\n",
              "    <tr>\n",
              "      <th>0</th>\n",
              "      <td>460</td>\n",
              "      <td>427.0</td>\n",
              "      <td>62.666667</td>\n",
              "      <td>6.81</td>\n",
              "      <td>11</td>\n",
              "      <td>4</td>\n",
              "      <td>Mustafizur Rahman</td>\n",
              "    </tr>\n",
              "    <tr>\n",
              "      <th>1</th>\n",
              "      <td>15</td>\n",
              "      <td>500.0</td>\n",
              "      <td>71.000000</td>\n",
              "      <td>7.04</td>\n",
              "      <td>6</td>\n",
              "      <td>4</td>\n",
              "      <td>Z Khan</td>\n",
              "    </tr>\n",
              "    <tr>\n",
              "      <th>2</th>\n",
              "      <td>194</td>\n",
              "      <td>453.0</td>\n",
              "      <td>63.000000</td>\n",
              "      <td>7.19</td>\n",
              "      <td>7</td>\n",
              "      <td>4</td>\n",
              "      <td>SL Malinga</td>\n",
              "    </tr>\n",
              "    <tr>\n",
              "      <th>3</th>\n",
              "      <td>315</td>\n",
              "      <td>556.0</td>\n",
              "      <td>76.333333</td>\n",
              "      <td>7.28</td>\n",
              "      <td>1</td>\n",
              "      <td>4</td>\n",
              "      <td>SP Narine</td>\n",
              "    </tr>\n",
              "    <tr>\n",
              "      <th>4</th>\n",
              "      <td>163</td>\n",
              "      <td>582.0</td>\n",
              "      <td>79.166667</td>\n",
              "      <td>7.35</td>\n",
              "      <td>11</td>\n",
              "      <td>4</td>\n",
              "      <td>MC Henriques</td>\n",
              "    </tr>\n",
              "  </tbody>\n",
              "</table>\n",
              "</div>"
            ],
            "text/plain": [
              "   Player_Id   Runs  Over_count  ...  Team_Bowling_Id  cluster        Player_Name\n",
              "0        460  427.0   62.666667  ...               11        4  Mustafizur Rahman\n",
              "1         15  500.0   71.000000  ...                6        4             Z Khan\n",
              "2        194  453.0   63.000000  ...                7        4         SL Malinga\n",
              "3        315  556.0   76.333333  ...                1        4          SP Narine\n",
              "4        163  582.0   79.166667  ...               11        4       MC Henriques\n",
              "\n",
              "[5 rows x 7 columns]"
            ]
          },
          "metadata": {
            "tags": []
          },
          "execution_count": 253
        }
      ]
    },
    {
      "cell_type": "code",
      "metadata": {
        "id": "TaeaFB5MM43I",
        "colab_type": "code",
        "outputId": "efca7484-b94d-424d-c1b2-772236949579",
        "colab": {
          "base_uri": "https://localhost:8080/",
          "height": 359
        }
      },
      "source": [
        "Bowlers = Bowlers[Bowlers.columns].merge(Players, \"left\")\n",
        "Bowlers.head(10)"
      ],
      "execution_count": 0,
      "outputs": [
        {
          "output_type": "execute_result",
          "data": {
            "text/html": [
              "<div>\n",
              "<style scoped>\n",
              "    .dataframe tbody tr th:only-of-type {\n",
              "        vertical-align: middle;\n",
              "    }\n",
              "\n",
              "    .dataframe tbody tr th {\n",
              "        vertical-align: top;\n",
              "    }\n",
              "\n",
              "    .dataframe thead th {\n",
              "        text-align: right;\n",
              "    }\n",
              "</style>\n",
              "<table border=\"1\" class=\"dataframe\">\n",
              "  <thead>\n",
              "    <tr style=\"text-align: right;\">\n",
              "      <th></th>\n",
              "      <th>Player_Id</th>\n",
              "      <th>Runs</th>\n",
              "      <th>Over_count</th>\n",
              "      <th>Econ_Rate</th>\n",
              "      <th>Team_Bowling_Id</th>\n",
              "      <th>cluster</th>\n",
              "      <th>Player_Name</th>\n",
              "    </tr>\n",
              "  </thead>\n",
              "  <tbody>\n",
              "    <tr>\n",
              "      <th>0</th>\n",
              "      <td>460</td>\n",
              "      <td>427.0</td>\n",
              "      <td>62.666667</td>\n",
              "      <td>6.81</td>\n",
              "      <td>11</td>\n",
              "      <td>4</td>\n",
              "      <td>Mustafizur Rahman</td>\n",
              "    </tr>\n",
              "    <tr>\n",
              "      <th>1</th>\n",
              "      <td>15</td>\n",
              "      <td>500.0</td>\n",
              "      <td>71.000000</td>\n",
              "      <td>7.04</td>\n",
              "      <td>6</td>\n",
              "      <td>4</td>\n",
              "      <td>Z Khan</td>\n",
              "    </tr>\n",
              "    <tr>\n",
              "      <th>2</th>\n",
              "      <td>194</td>\n",
              "      <td>453.0</td>\n",
              "      <td>63.000000</td>\n",
              "      <td>7.19</td>\n",
              "      <td>7</td>\n",
              "      <td>4</td>\n",
              "      <td>SL Malinga</td>\n",
              "    </tr>\n",
              "    <tr>\n",
              "      <th>3</th>\n",
              "      <td>315</td>\n",
              "      <td>556.0</td>\n",
              "      <td>76.333333</td>\n",
              "      <td>7.28</td>\n",
              "      <td>1</td>\n",
              "      <td>4</td>\n",
              "      <td>SP Narine</td>\n",
              "    </tr>\n",
              "    <tr>\n",
              "      <th>4</th>\n",
              "      <td>163</td>\n",
              "      <td>582.0</td>\n",
              "      <td>79.166667</td>\n",
              "      <td>7.35</td>\n",
              "      <td>11</td>\n",
              "      <td>4</td>\n",
              "      <td>MC Henriques</td>\n",
              "    </tr>\n",
              "    <tr>\n",
              "      <th>5</th>\n",
              "      <td>371</td>\n",
              "      <td>451.0</td>\n",
              "      <td>59.500000</td>\n",
              "      <td>7.58</td>\n",
              "      <td>6</td>\n",
              "      <td>4</td>\n",
              "      <td>NM Coulter-Nile</td>\n",
              "    </tr>\n",
              "    <tr>\n",
              "      <th>6</th>\n",
              "      <td>67</td>\n",
              "      <td>548.0</td>\n",
              "      <td>71.333333</td>\n",
              "      <td>7.68</td>\n",
              "      <td>1</td>\n",
              "      <td>4</td>\n",
              "      <td>PP Chawla</td>\n",
              "    </tr>\n",
              "    <tr>\n",
              "      <th>7</th>\n",
              "      <td>190</td>\n",
              "      <td>511.0</td>\n",
              "      <td>65.666667</td>\n",
              "      <td>7.78</td>\n",
              "      <td>1</td>\n",
              "      <td>4</td>\n",
              "      <td>M Morkel</td>\n",
              "    </tr>\n",
              "    <tr>\n",
              "      <th>8</th>\n",
              "      <td>334</td>\n",
              "      <td>633.0</td>\n",
              "      <td>79.666667</td>\n",
              "      <td>7.95</td>\n",
              "      <td>1</td>\n",
              "      <td>4</td>\n",
              "      <td>AD Russell</td>\n",
              "    </tr>\n",
              "    <tr>\n",
              "      <th>9</th>\n",
              "      <td>377</td>\n",
              "      <td>588.0</td>\n",
              "      <td>73.833333</td>\n",
              "      <td>7.96</td>\n",
              "      <td>7</td>\n",
              "      <td>4</td>\n",
              "      <td>TG Southee</td>\n",
              "    </tr>\n",
              "  </tbody>\n",
              "</table>\n",
              "</div>"
            ],
            "text/plain": [
              "   Player_Id   Runs  Over_count  ...  Team_Bowling_Id  cluster        Player_Name\n",
              "0        460  427.0   62.666667  ...               11        4  Mustafizur Rahman\n",
              "1         15  500.0   71.000000  ...                6        4             Z Khan\n",
              "2        194  453.0   63.000000  ...                7        4         SL Malinga\n",
              "3        315  556.0   76.333333  ...                1        4          SP Narine\n",
              "4        163  582.0   79.166667  ...               11        4       MC Henriques\n",
              "5        371  451.0   59.500000  ...                6        4    NM Coulter-Nile\n",
              "6         67  548.0   71.333333  ...                1        4          PP Chawla\n",
              "7        190  511.0   65.666667  ...                1        4           M Morkel\n",
              "8        334  633.0   79.666667  ...                1        4         AD Russell\n",
              "9        377  588.0   73.833333  ...                7        4         TG Southee\n",
              "\n",
              "[10 rows x 7 columns]"
            ]
          },
          "metadata": {
            "tags": []
          },
          "execution_count": 254
        }
      ]
    },
    {
      "cell_type": "code",
      "metadata": {
        "id": "m1ANUtJnM8H7",
        "colab_type": "code",
        "outputId": "cd916fab-19eb-4362-c498-8a123e4f6f26",
        "colab": {
          "base_uri": "https://localhost:8080/",
          "height": 173
        }
      },
      "source": [
        "Bowlers = Bowlers.sort_values(by=['cluster', 'Econ_Rate', 'Over_count'], ascending=[False, True,False])\n",
        "top_bowlers = Bowlers[Bowlers['Team_Bowling_Id'] == 4]\n",
        "top_bowlers.head(4)"
      ],
      "execution_count": 0,
      "outputs": [
        {
          "output_type": "execute_result",
          "data": {
            "text/html": [
              "<div>\n",
              "<style scoped>\n",
              "    .dataframe tbody tr th:only-of-type {\n",
              "        vertical-align: middle;\n",
              "    }\n",
              "\n",
              "    .dataframe tbody tr th {\n",
              "        vertical-align: top;\n",
              "    }\n",
              "\n",
              "    .dataframe thead th {\n",
              "        text-align: right;\n",
              "    }\n",
              "</style>\n",
              "<table border=\"1\" class=\"dataframe\">\n",
              "  <thead>\n",
              "    <tr style=\"text-align: right;\">\n",
              "      <th></th>\n",
              "      <th>Player_Id</th>\n",
              "      <th>Runs</th>\n",
              "      <th>Over_count</th>\n",
              "      <th>Econ_Rate</th>\n",
              "      <th>Team_Bowling_Id</th>\n",
              "      <th>cluster</th>\n",
              "      <th>Player_Name</th>\n",
              "    </tr>\n",
              "  </thead>\n",
              "  <tbody>\n",
              "    <tr>\n",
              "      <th>23</th>\n",
              "      <td>395</td>\n",
              "      <td>521.0</td>\n",
              "      <td>60.000000</td>\n",
              "      <td>8.68</td>\n",
              "      <td>4</td>\n",
              "      <td>4</td>\n",
              "      <td>Anureet Singh</td>\n",
              "    </tr>\n",
              "    <tr>\n",
              "      <th>52</th>\n",
              "      <td>356</td>\n",
              "      <td>167.0</td>\n",
              "      <td>20.666667</td>\n",
              "      <td>8.08</td>\n",
              "      <td>4</td>\n",
              "      <td>3</td>\n",
              "      <td>R Dhawan</td>\n",
              "    </tr>\n",
              "    <tr>\n",
              "      <th>97</th>\n",
              "      <td>412</td>\n",
              "      <td>152.0</td>\n",
              "      <td>17.833333</td>\n",
              "      <td>8.52</td>\n",
              "      <td>4</td>\n",
              "      <td>3</td>\n",
              "      <td>P Sahu</td>\n",
              "    </tr>\n",
              "    <tr>\n",
              "      <th>96</th>\n",
              "      <td>409</td>\n",
              "      <td>203.0</td>\n",
              "      <td>23.333333</td>\n",
              "      <td>8.70</td>\n",
              "      <td>4</td>\n",
              "      <td>3</td>\n",
              "      <td>MP Stoinis</td>\n",
              "    </tr>\n",
              "  </tbody>\n",
              "</table>\n",
              "</div>"
            ],
            "text/plain": [
              "    Player_Id   Runs  Over_count  ...  Team_Bowling_Id  cluster    Player_Name\n",
              "23        395  521.0   60.000000  ...                4        4  Anureet Singh\n",
              "52        356  167.0   20.666667  ...                4        3       R Dhawan\n",
              "97        412  152.0   17.833333  ...                4        3         P Sahu\n",
              "96        409  203.0   23.333333  ...                4        3     MP Stoinis\n",
              "\n",
              "[4 rows x 7 columns]"
            ]
          },
          "metadata": {
            "tags": []
          },
          "execution_count": 251
        }
      ]
    },
    {
      "cell_type": "code",
      "metadata": {
        "id": "ZGm6hGDzo15u",
        "colab_type": "code",
        "outputId": "476fe88d-3390-4bf9-d151-f124d3770346",
        "colab": {
          "base_uri": "https://localhost:8080/",
          "height": 204
        }
      },
      "source": [
        "df_matches = pd.read_csv('/content/matches.csv')\n",
        "df_deliveries = pd.read_csv('/content/deliveries.csv')\n",
        "\n",
        "# Take the dismissal kind as stumped and count the number of stumping a fielder(wicket-keeper) has done\n",
        "wicket_keeper_stumping = df_deliveries[df_deliveries['dismissal_kind'] == 'stumped']['fielder'].value_counts().reset_index()\n",
        "# Renaming the column accordingly\n",
        "wicket_keeper_stumping.rename(columns={'index':'wicket_keeper','fielder':'stumping'}, inplace=True)\n",
        "# Get first 5 rows\n",
        "\n",
        "wicket_keeper_list = wicket_keeper_stumping['wicket_keeper'].tolist()\n",
        "\n",
        "\n",
        "# Take the dismissal kind as caught and fielder should be present in the wicket_keeper_list\n",
        "wicket_keeper_catches = df_deliveries[(df_deliveries['dismissal_kind']=='caught') & (df_deliveries['fielder'].isin(wicket_keeper_list))]['fielder'].value_counts().reset_index()\n",
        "# Rename the columns accordingly\n",
        "wicket_keeper_catches.rename(columns={'index':'wicket_keeper','fielder':'catches'}, inplace=True)\n",
        "\n",
        "\n",
        "# Left Outer Join on wicket_keeper_stumping and wicket_keeper_catches\n",
        "wicket_keeper_dismissals = pd.merge(wicket_keeper_stumping,wicket_keeper_catches,on='wicket_keeper',how='outer')\n",
        "# Convert the NaN values to 0\n",
        "wicket_keeper_dismissals.catches = wicket_keeper_dismissals.catches.fillna(0)\n",
        "# Convert the data-type of catches to integer (from float)\n",
        "wicket_keeper_dismissals.catches = wicket_keeper_dismissals.catches.astype(int)\n",
        "# Get the total by adding number of stumping and catches\n",
        "wicket_keeper_dismissals['total'] = wicket_keeper_dismissals.stumping + wicket_keeper_dismissals.catches\n",
        "# Sort the DataFrame by total\n",
        "wicket_keeper_dismissals = wicket_keeper_dismissals.sort_values(['total'], ascending=False).reset_index()\n",
        "# Drop the index column\n",
        "wicket_keeper_dismissals.drop('index', axis=1, inplace=True)\n",
        "# Get first 5 rows\n",
        "\n",
        "\n",
        "final_ds = df_deliveries[['match_id', 'batsman']]\n",
        "a_ds = final_ds.drop_duplicates(['match_id', 'batsman'])[['match_id', 'batsman']]\n",
        "\n",
        "# print(a_ds)\n",
        "\n",
        "batsmans = list(a_ds['batsman'])\n",
        "\n",
        "batsman_counts = {}\n",
        "\n",
        "for player in batsmans:\n",
        "    batsman_counts[player] = batsmans.count(player)\n",
        "\n",
        "# print(batsman_counts)\n",
        "\n",
        "wicket_keeper_dismissals['matches'] = wicket_keeper_dismissals.apply(lambda row: batsman_counts.get(row.wicket_keeper), axis=1)\n",
        "wicket_keeper_dismissals['Dismissals per Match'] = wicket_keeper_dismissals.apply(lambda row: row.total / row.matches, axis=1)\n",
        "\n",
        "print(wicket_keeper_dismissals.head(10))"
      ],
      "execution_count": 0,
      "outputs": [
        {
          "output_type": "stream",
          "text": [
            "    wicket_keeper  stumping  catches  total  matches  Dismissals per Match\n",
            "0      KD Karthik        29      109    138    162.0              0.851852\n",
            "1        MS Dhoni        38       98    136    170.0              0.800000\n",
            "2      RV Uthappa        32       84    116    170.0              0.682353\n",
            "3  AB de Villiers         7       93    100    142.0              0.704225\n",
            "4        PA Patel        16       69     85    136.0              0.625000\n",
            "5         WP Saha        18       60     78     93.0              0.838710\n",
            "6         NV Ojha        10       65     75     94.0              0.797872\n",
            "7    AC Gilchrist        16       51     67     80.0              0.837500\n",
            "8       AT Rayudu         2       53     55    138.0              0.398551\n",
            "9   KC Sangakkara         9       45     54     68.0              0.794118\n"
          ],
          "name": "stdout"
        }
      ]
    },
    {
      "cell_type": "code",
      "metadata": {
        "id": "VHBgZo-Mo51L",
        "colab_type": "code",
        "outputId": "e253a03d-f69b-4c32-b283-a2b81628d695",
        "colab": {
          "base_uri": "https://localhost:8080/",
          "height": 410
        }
      },
      "source": [
        "sns.set_style(\"whitegrid\")\n",
        "\n",
        "fig = plt.figure(figsize=(12,6))\n",
        "plt.scatter(wicket_keeper_dismissals[\"matches\"], wicket_keeper_dismissals[\"Dismissals per Match\"], color=\"teal\")\n",
        "plt.xlabel(\"Matches\", fontsize=14)\n",
        "plt.ylabel(\"Dismissals per Match\", fontsize=14)\n",
        "plt.title(\"IPL Wicketkeepers\", fontsize=16)\n",
        "plt.show()"
      ],
      "execution_count": 0,
      "outputs": [
        {
          "output_type": "display_data",
          "data": {
            "image/png": "[encoded data removed]",
            "text/plain": [
              "<Figure size 864x432 with 1 Axes>"
            ]
          },
          "metadata": {
            "tags": []
          }
        }
      ]
    },
    {
      "cell_type": "code",
      "metadata": {
        "id": "K7avvGNgelGo",
        "colab_type": "code",
        "outputId": "7420394a-f313-4747-ecd3-74af0b0ad660",
        "colab": {
          "base_uri": "https://localhost:8080/",
          "height": 955
        }
      },
      "source": [
        "from sklearn.cluster import KMeans\n",
        "\n",
        "kmeans = KMeans(n_clusters=3)\n",
        "kmeans.fit(wicket_keeper_dismissals[\"matches\", \"Dismissals per Match\"])\n",
        "wicket_keeper_dismissals[\"cluster\"] = kmeans.labels_\n",
        "\n",
        "fig = plt.figure(figsize=(12,6))\n",
        "\n",
        "colors = [\"blue\", \"lightgreen\"]\n",
        "\n",
        "for r in range(1,3):\n",
        "    clustered_wk = wicket_keeper_dismissals[wicket_keeper_dismissals[\"cluster\"] == r]\n",
        "    plt.scatter(clustered_wk[\"matches\"], clustered_wk[\"Dismissals per Match\"], color=colors[r-1])\n",
        "    \n",
        "plt.title(\"IPL Wicketkeepers\", fontsize=16)\n",
        "plt.xlabel(\"Matches played by WK\", fontsize=14)\n",
        "plt.ylabel(\"Dismissals per Match by WK\", fontsize=14)\n",
        "    \n",
        "plt.show()"
      ],
      "execution_count": 0,
      "outputs": [
        {
          "output_type": "error",
          "ename": "KeyError",
          "evalue": "ignored",
          "traceback": [
            "\u001b[0;31m---------------------------------------------------------------------------\u001b[0m",
            "\u001b[0;31mKeyError\u001b[0m                                  Traceback (most recent call last)",
            "\u001b[0;32m/usr/local/lib/python3.6/dist-packages/pandas/core/indexes/base.py\u001b[0m in \u001b[0;36mget_loc\u001b[0;34m(self, key, method, tolerance)\u001b[0m\n\u001b[1;32m   2896\u001b[0m             \u001b[0;32mtry\u001b[0m\u001b[0;34m:\u001b[0m\u001b[0;34m\u001b[0m\u001b[0;34m\u001b[0m\u001b[0m\n\u001b[0;32m-> 2897\u001b[0;31m                 \u001b[0;32mreturn\u001b[0m \u001b[0mself\u001b[0m\u001b[0;34m.\u001b[0m\u001b[0m_engine\u001b[0m\u001b[0;34m.\u001b[0m\u001b[0mget_loc\u001b[0m\u001b[0;34m(\u001b[0m\u001b[0mkey\u001b[0m\u001b[0;34m)\u001b[0m\u001b[0;34m\u001b[0m\u001b[0;34m\u001b[0m\u001b[0m\n\u001b[0m\u001b[1;32m   2898\u001b[0m             \u001b[0;32mexcept\u001b[0m \u001b[0mKeyError\u001b[0m\u001b[0;34m:\u001b[0m\u001b[0;34m\u001b[0m\u001b[0;34m\u001b[0m\u001b[0m\n",
            "\u001b[0;32mpandas/_libs/index.pyx\u001b[0m in \u001b[0;36mpandas._libs.index.IndexEngine.get_loc\u001b[0;34m()\u001b[0m\n",
            "\u001b[0;32mpandas/_libs/index.pyx\u001b[0m in \u001b[0;36mpandas._libs.index.IndexEngine.get_loc\u001b[0;34m()\u001b[0m\n",
            "\u001b[0;32mpandas/_libs/hashtable_class_helper.pxi\u001b[0m in \u001b[0;36mpandas._libs.hashtable.PyObjectHashTable.get_item\u001b[0;34m()\u001b[0m\n",
            "\u001b[0;32mpandas/_libs/hashtable_class_helper.pxi\u001b[0m in \u001b[0;36mpandas._libs.hashtable.PyObjectHashTable.get_item\u001b[0;34m()\u001b[0m\n",
            "\u001b[0;31mKeyError\u001b[0m: ('matches', 'Dismissals per Match')",
            "\nDuring handling of the above exception, another exception occurred:\n",
            "\u001b[0;31mKeyError\u001b[0m                                  Traceback (most recent call last)",
            "\u001b[0;32m<ipython-input-276-45b3c1273bd6>\u001b[0m in \u001b[0;36m<module>\u001b[0;34m()\u001b[0m\n\u001b[1;32m      2\u001b[0m \u001b[0;34m\u001b[0m\u001b[0m\n\u001b[1;32m      3\u001b[0m \u001b[0mkmeans\u001b[0m \u001b[0;34m=\u001b[0m \u001b[0mKMeans\u001b[0m\u001b[0;34m(\u001b[0m\u001b[0mn_clusters\u001b[0m\u001b[0;34m=\u001b[0m\u001b[0;36m3\u001b[0m\u001b[0;34m)\u001b[0m\u001b[0;34m\u001b[0m\u001b[0;34m\u001b[0m\u001b[0m\n\u001b[0;32m----> 4\u001b[0;31m \u001b[0mkmeans\u001b[0m\u001b[0;34m.\u001b[0m\u001b[0mfit\u001b[0m\u001b[0;34m(\u001b[0m\u001b[0mwicket_keeper_dismissals\u001b[0m\u001b[0;34m[\u001b[0m\u001b[0;34m\"matches\"\u001b[0m\u001b[0;34m,\u001b[0m \u001b[0;34m\"Dismissals per Match\"\u001b[0m\u001b[0;34m]\u001b[0m\u001b[0;34m)\u001b[0m\u001b[0;34m\u001b[0m\u001b[0;34m\u001b[0m\u001b[0m\n\u001b[0m\u001b[1;32m      5\u001b[0m \u001b[0mwicket_keeper_dismissals\u001b[0m\u001b[0;34m[\u001b[0m\u001b[0;34m\"cluster\"\u001b[0m\u001b[0;34m]\u001b[0m \u001b[0;34m=\u001b[0m \u001b[0mkmeans\u001b[0m\u001b[0;34m.\u001b[0m\u001b[0mlabels_\u001b[0m\u001b[0;34m\u001b[0m\u001b[0;34m\u001b[0m\u001b[0m\n\u001b[1;32m      6\u001b[0m \u001b[0;34m\u001b[0m\u001b[0m\n",
            "\u001b[0;32m/usr/local/lib/python3.6/dist-packages/pandas/core/frame.py\u001b[0m in \u001b[0;36m__getitem__\u001b[0;34m(self, key)\u001b[0m\n\u001b[1;32m   2993\u001b[0m             \u001b[0;32mif\u001b[0m \u001b[0mself\u001b[0m\u001b[0;34m.\u001b[0m\u001b[0mcolumns\u001b[0m\u001b[0;34m.\u001b[0m\u001b[0mnlevels\u001b[0m \u001b[0;34m>\u001b[0m \u001b[0;36m1\u001b[0m\u001b[0;34m:\u001b[0m\u001b[0;34m\u001b[0m\u001b[0;34m\u001b[0m\u001b[0m\n\u001b[1;32m   2994\u001b[0m                 \u001b[0;32mreturn\u001b[0m \u001b[0mself\u001b[0m\u001b[0;34m.\u001b[0m\u001b[0m_getitem_multilevel\u001b[0m\u001b[0;34m(\u001b[0m\u001b[0mkey\u001b[0m\u001b[0;34m)\u001b[0m\u001b[0;34m\u001b[0m\u001b[0;34m\u001b[0m\u001b[0m\n\u001b[0;32m-> 2995\u001b[0;31m             \u001b[0mindexer\u001b[0m \u001b[0;34m=\u001b[0m \u001b[0mself\u001b[0m\u001b[0;34m.\u001b[0m\u001b[0mcolumns\u001b[0m\u001b[0;34m.\u001b[0m\u001b[0mget_loc\u001b[0m\u001b[0;34m(\u001b[0m\u001b[0mkey\u001b[0m\u001b[0;34m)\u001b[0m\u001b[0;34m\u001b[0m\u001b[0;34m\u001b[0m\u001b[0m\n\u001b[0m\u001b[1;32m   2996\u001b[0m             \u001b[0;32mif\u001b[0m \u001b[0mis_integer\u001b[0m\u001b[0;34m(\u001b[0m\u001b[0mindexer\u001b[0m\u001b[0;34m)\u001b[0m\u001b[0;34m:\u001b[0m\u001b[0;34m\u001b[0m\u001b[0;34m\u001b[0m\u001b[0m\n\u001b[1;32m   2997\u001b[0m                 \u001b[0mindexer\u001b[0m \u001b[0;34m=\u001b[0m \u001b[0;34m[\u001b[0m\u001b[0mindexer\u001b[0m\u001b[0;34m]\u001b[0m\u001b[0;34m\u001b[0m\u001b[0;34m\u001b[0m\u001b[0m\n",
            "\u001b[0;32m/usr/local/lib/python3.6/dist-packages/pandas/core/indexes/base.py\u001b[0m in \u001b[0;36mget_loc\u001b[0;34m(self, key, method, tolerance)\u001b[0m\n\u001b[1;32m   2897\u001b[0m                 \u001b[0;32mreturn\u001b[0m \u001b[0mself\u001b[0m\u001b[0;34m.\u001b[0m\u001b[0m_engine\u001b[0m\u001b[0;34m.\u001b[0m\u001b[0mget_loc\u001b[0m\u001b[0;34m(\u001b[0m\u001b[0mkey\u001b[0m\u001b[0;34m)\u001b[0m\u001b[0;34m\u001b[0m\u001b[0;34m\u001b[0m\u001b[0m\n\u001b[1;32m   2898\u001b[0m             \u001b[0;32mexcept\u001b[0m \u001b[0mKeyError\u001b[0m\u001b[0;34m:\u001b[0m\u001b[0;34m\u001b[0m\u001b[0;34m\u001b[0m\u001b[0m\n\u001b[0;32m-> 2899\u001b[0;31m                 \u001b[0;32mreturn\u001b[0m \u001b[0mself\u001b[0m\u001b[0;34m.\u001b[0m\u001b[0m_engine\u001b[0m\u001b[0;34m.\u001b[0m\u001b[0mget_loc\u001b[0m\u001b[0;34m(\u001b[0m\u001b[0mself\u001b[0m\u001b[0;34m.\u001b[0m\u001b[0m_maybe_cast_indexer\u001b[0m\u001b[0;34m(\u001b[0m\u001b[0mkey\u001b[0m\u001b[0;34m)\u001b[0m\u001b[0;34m)\u001b[0m\u001b[0;34m\u001b[0m\u001b[0;34m\u001b[0m\u001b[0m\n\u001b[0m\u001b[1;32m   2900\u001b[0m         \u001b[0mindexer\u001b[0m \u001b[0;34m=\u001b[0m \u001b[0mself\u001b[0m\u001b[0;34m.\u001b[0m\u001b[0mget_indexer\u001b[0m\u001b[0;34m(\u001b[0m\u001b[0;34m[\u001b[0m\u001b[0mkey\u001b[0m\u001b[0;34m]\u001b[0m\u001b[0;34m,\u001b[0m \u001b[0mmethod\u001b[0m\u001b[0;34m=\u001b[0m\u001b[0mmethod\u001b[0m\u001b[0;34m,\u001b[0m \u001b[0mtolerance\u001b[0m\u001b[0;34m=\u001b[0m\u001b[0mtolerance\u001b[0m\u001b[0;34m)\u001b[0m\u001b[0;34m\u001b[0m\u001b[0;34m\u001b[0m\u001b[0m\n\u001b[1;32m   2901\u001b[0m         \u001b[0;32mif\u001b[0m \u001b[0mindexer\u001b[0m\u001b[0;34m.\u001b[0m\u001b[0mndim\u001b[0m \u001b[0;34m>\u001b[0m \u001b[0;36m1\u001b[0m \u001b[0;32mor\u001b[0m \u001b[0mindexer\u001b[0m\u001b[0;34m.\u001b[0m\u001b[0msize\u001b[0m \u001b[0;34m>\u001b[0m \u001b[0;36m1\u001b[0m\u001b[0;34m:\u001b[0m\u001b[0;34m\u001b[0m\u001b[0;34m\u001b[0m\u001b[0m\n",
            "\u001b[0;32mpandas/_libs/index.pyx\u001b[0m in \u001b[0;36mpandas._libs.index.IndexEngine.get_loc\u001b[0;34m()\u001b[0m\n",
            "\u001b[0;32mpandas/_libs/index.pyx\u001b[0m in \u001b[0;36mpandas._libs.index.IndexEngine.get_loc\u001b[0;34m()\u001b[0m\n",
            "\u001b[0;32mpandas/_libs/hashtable_class_helper.pxi\u001b[0m in \u001b[0;36mpandas._libs.hashtable.PyObjectHashTable.get_item\u001b[0;34m()\u001b[0m\n",
            "\u001b[0;32mpandas/_libs/hashtable_class_helper.pxi\u001b[0m in \u001b[0;36mpandas._libs.hashtable.PyObjectHashTable.get_item\u001b[0;34m()\u001b[0m\n",
            "\u001b[0;31mKeyError\u001b[0m: ('matches', 'Dismissals per Match')"
          ]
        }
      ]
    },
    {
      "cell_type": "code",
      "metadata": {
        "id": "xorLAszcfHrA",
        "colab_type": "code",
        "colab": {}
      },
      "source": [
        ""
      ],
      "execution_count": 0,
      "outputs": []
    }
  ]
}